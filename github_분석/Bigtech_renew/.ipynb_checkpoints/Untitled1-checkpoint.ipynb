{
 "cells": [
  {
   "cell_type": "code",
   "execution_count": 1,
   "id": "fd33a587",
   "metadata": {},
   "outputs": [],
   "source": [
    "import pandas as pd\n"
   ]
  },
  {
   "cell_type": "code",
   "execution_count": 2,
   "id": "d673086e",
   "metadata": {},
   "outputs": [],
   "source": [
    "csv = pd.read_csv('alibaba_renew.csv')"
   ]
  },
  {
   "cell_type": "code",
   "execution_count": null,
   "id": "9797805b",
   "metadata": {},
   "outputs": [],
   "source": [
    "cat = csv['category']"
   ]
  },
  {
   "cell_type": "code",
   "execution_count": null,
   "id": "bdec335d",
   "metadata": {},
   "outputs": [],
   "source": []
  }
 ],
 "metadata": {
  "kernelspec": {
   "display_name": "Crawling",
   "language": "python",
   "name": "crawling"
  },
  "language_info": {
   "codemirror_mode": {
    "name": "ipython",
    "version": 3
   },
   "file_extension": ".py",
   "mimetype": "text/x-python",
   "name": "python",
   "nbconvert_exporter": "python",
   "pygments_lexer": "ipython3",
   "version": "3.9.1"
  }
 },
 "nbformat": 4,
 "nbformat_minor": 5
}
