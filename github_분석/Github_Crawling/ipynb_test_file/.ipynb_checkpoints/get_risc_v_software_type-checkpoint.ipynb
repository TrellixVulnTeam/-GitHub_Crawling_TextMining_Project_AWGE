{
 "cells": [
  {
   "cell_type": "code",
   "execution_count": 2,
   "id": "bed74fac",
   "metadata": {},
   "outputs": [],
   "source": [
    "import time\n",
    "import requests\n",
    "import pandas as pd\n",
    "from selenium import webdriver\n",
    "from selenium.webdriver.common.by import By\n",
    "from selenium.webdriver.chrome.options import Options\n",
    "from time import sleep\n",
    "from bs4 import BeautifulSoup\n",
    "from bs4 import BeautifulSoup as bs\n",
    "from fake_useragent import UserAgent\n",
    "import urllib.request as ur\n",
    "import warnings\n",
    "from selenium.webdriver.support import expected_conditions as EC\n",
    "from tqdm import tqdm\n",
    "\n",
    "chrome_options = Options()\n",
    "chrome_options.add_argument(\"--no-sandbox\")\n",
    "chrome_options.add_argument(\"--headless\")\n",
    "\n",
    "\n",
    "def search_software_url():\n",
    "        #url 링크 따와서 고정적인 부분 나두고 변경되는 소프트웨어 타입 이름들 리스트에 넣어서 반복문 돌림\n",
    "    #\n",
    "    #돌려가면서 나오는 자료내용들 추출\n",
    "    url_1 = 'https://riscv.org/exchange/?_sft_exchange_category=software'\n",
    "    html = ur.urlopen(url_1)\n",
    "    soup = bs(html.read(), \"html.parser\")\n",
    "\n",
    "    software_type_list = soup.find_all(\"ul\", {'data-operator':'or'}) # 제목\n",
    "\n",
    "    \n",
    "    df_dic = []\n",
    "    for i in software_type_list[13].find_all('li',\"sf-level-0\" ):\n",
    "        title = i.text.strip()\n",
    "\n",
    "        df_dic.append(title)\n",
    "    \n",
    "    url_and_repo_name = []\n",
    "    BASE_URL = 'https://riscv.org/exchange/?_sft_exchange_category=software&_sfm_exchange_software_type='\n",
    "    \n",
    "    \n",
    "    for i in tqdm(df_dic):\n",
    "        url = BASE_URL\n",
    "        string = i.split()\n",
    "\n",
    "        for j in string:\n",
    "            if j == string[-1]:\n",
    "                url+=j\n",
    "            else:\n",
    "                url+= (j+'%20')\n",
    "        url_and_repo_name.append([url,i])\n",
    "        \n",
    "    return url_and_repo_name"
   ]
  },
  {
   "cell_type": "code",
   "execution_count": null,
   "id": "6a88313c",
   "metadata": {},
   "outputs": [],
   "source": []
  }
 ],
 "metadata": {
  "kernelspec": {
   "display_name": "Crawling",
   "language": "python",
   "name": "crawling"
  },
  "language_info": {
   "codemirror_mode": {
    "name": "ipython",
    "version": 3
   },
   "file_extension": ".py",
   "mimetype": "text/x-python",
   "name": "python",
   "nbconvert_exporter": "python",
   "pygments_lexer": "ipython3",
   "version": "3.9.1"
  }
 },
 "nbformat": 4,
 "nbformat_minor": 5
}
