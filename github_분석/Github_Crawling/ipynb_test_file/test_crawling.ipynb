{
 "cells": [
  {
   "cell_type": "code",
   "execution_count": 19,
   "id": "b830d393",
   "metadata": {},
   "outputs": [],
   "source": [
    "import requests\n",
    "from bs4 import BeautifulSoup\n",
    "import time\n",
    "from selenium import webdriver\n",
    "from selenium.webdriver.chrome.options import Options\n",
    "\n",
    "import pandas as pd\n",
    "from fake_useragent import UserAgent\n",
    "from bs4 import BeautifulSoup as bs\n",
    "import urllib.request as ur\n",
    "from get_risc_v_software_type import search_software_url\n",
    "from tqdm import tqdm"
   ]
  },
  {
   "cell_type": "code",
   "execution_count": 50,
   "id": "5bfca9b4",
   "metadata": {},
   "outputs": [],
   "source": [
    "df_dic = {}\n",
    "dic_keys = ['title']\n",
    "\n",
    "url = 'https://github.com/theandrew168/bronzebeard'\n",
    "\n",
    "html = ur.urlopen(url)\n",
    "soup = bs(html.read(), \"html.parser\")\n",
    "\n",
    "for k in dic_keys:\n",
    "    df_dic[k] = []\n",
    "\n",
    "\n",
    "\n",
    "    \n",
    "# title = soup.find('strong','mr-2 flex-self-stretch').text.strip() # 각 repository별 title 추출\n",
    "# title = soup.find('p','f4 my-3').text.strip()\n",
    "\n",
    "# title = soup.find_all('a',{'data-ga-click':\"Topic, repository page\"})\n",
    "# if title is not None:\n",
    "#     topic_keyword_list = []\n",
    "#     for tk in title:\n",
    "#         topic_keyword_list.append(tk.text.strip())\n",
    "# else:\n",
    "#     topic_keyword_list = []\n",
    "        "
   ]
  },
  {
   "cell_type": "code",
   "execution_count": 51,
   "id": "97b5d05d",
   "metadata": {},
   "outputs": [
    {
     "data": {
      "text/plain": [
       "['python', 'assembler', 'bare-metal', 'risc-v', 'longan-nano', 'wio-lite']"
      ]
     },
     "execution_count": 51,
     "metadata": {},
     "output_type": "execute_result"
    }
   ],
   "source": [
    "topic_keyword_list"
   ]
  },
  {
   "cell_type": "code",
   "execution_count": null,
   "id": "a0236fb2",
   "metadata": {},
   "outputs": [],
   "source": []
  }
 ],
 "metadata": {
  "kernelspec": {
   "display_name": "Crawling",
   "language": "python",
   "name": "crawling"
  },
  "language_info": {
   "codemirror_mode": {
    "name": "ipython",
    "version": 3
   },
   "file_extension": ".py",
   "mimetype": "text/x-python",
   "name": "python",
   "nbconvert_exporter": "python",
   "pygments_lexer": "ipython3",
   "version": "3.9.1"
  }
 },
 "nbformat": 4,
 "nbformat_minor": 5
}
