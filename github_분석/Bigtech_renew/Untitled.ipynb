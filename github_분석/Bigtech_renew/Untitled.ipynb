{
 "cells": [
  {
   "cell_type": "code",
   "execution_count": 2,
   "id": "8b86b019",
   "metadata": {},
   "outputs": [],
   "source": [
    "import pandas as pd\n",
    "import numpy as np\n",
    "import os\n"
   ]
  },
  {
   "cell_type": "code",
   "execution_count": 4,
   "id": "34d44d31",
   "metadata": {},
   "outputs": [],
   "source": [
    "#org = [\"alibaba_renew\", \"apple_renew\", \"aws_renew\", \"baidu_renew\", \"facebook_renew\", \"google_renew\", \"kakao_renew\",\"microsoft_renew\", \"naver_renew\", \"samsung_renew\", \"tencent_renew\"]\n",
    "org = [\"NVIDIA\"]\n",
    "\n",
    "for o in org:\n",
    "    bigtech_name = pd.read_excel('{}.xlsx'.format(o))\n",
    "    topic = bigtech_name['Topics']\n",
    "    topic_val = topic.values.tolist()\n",
    "    \n",
    "    include_cuda = []\n",
    "    for val in topic_val:\n",
    "        if 'cuda' in val:\n",
    "            include_cuda.append(val)\n",
    "        else:\n",
    "            continue\n",
    "    \n"
   ]
  },
  {
   "cell_type": "code",
   "execution_count": 5,
   "id": "e824045e",
   "metadata": {},
   "outputs": [
    {
     "data": {
      "text/plain": [
       "[\"['cxx', 'cpp', 'gpu', 'llvm', 'cpp14', 'cuda', 'cpp11', 'nvidia', 'standard', 'cpp17', 'std', 'libcxx', 'cpp20', 'cxx11', 'cxx14', 'cxx17', 'cpp23', 'cxx20', 'nvidia-hpc-sdk', 'cxx23']\",\n",
       " \"['python', 'machine-learning', 'deep-learning', 'neural-network', 'mxnet', 'gpu', 'image-processing', 'pytorch', 'gpu-tensorflow', 'data-processing', 'data-augmentation', 'audio-processing', 'paddle', 'image-augmentation', 'fast-data-pipeline']\",\n",
       " \"['nlp', 'text-to-speech', 'deep-learning', 'neural-network', 'machine-translation', 'tts', 'speech-synthesis', 'speech-recognition', 'speech-to-text', 'nmt', 'language-model', 'speaker-recognition', 'nlp-machine-learning', 'asr', 'speaker-diarization', 'text-normalization']\",\n",
       " \"['big-data', 'spark', 'gpu', 'rapids']\",\n",
       " \"['deep-learning', 'cpp', 'gpu', 'cuda', 'cpp11', 'nvidia', 'deep-learning-library']\",\n",
       " \"['python']\",\n",
       " \"['deep-learning', 'etl', 'high-performance', 'hyper-converged', 'object-storage', 'commodity-hardware', 'petascale', 'distributed-shuffle']\",\n",
       " \"['hpc', 'gpu', 'cuda', 'gpgpu', 'gpu-computing']\",\n",
       " \"['kubernetes', 'gpu', 'cuda', 'nvidia']\",\n",
       " \"['nvidia-driver-packages', 'yum-packaging', 'nvidia-graphics-drivers']\",\n",
       " \"['cxx', 'algorithms', 'cpp', 'gpu', 'cpp14', 'cuda', 'cpp11', 'nvidia', 'cpp17', 'thrust', 'cpp20', 'cxx11', 'cxx14', 'cxx17', 'cxx20', 'nvidia-hpc-sdk']\",\n",
       " \"['cxx', 'algorithms', 'cpp', 'gpu', 'cpp14', 'cuda', 'cpp11', 'nvidia', 'cpp17', 'cub', 'cpp20', 'cxx11', 'cxx14', 'cxx17', 'cxx20', 'nvidia-hpc-sdk']\",\n",
       " \"['pytorch', 'transformer', 'gpt', 'bert']\",\n",
       " \"['kubernetes']\",\n",
       " \"['yum-packaging', 'apt-packaging', 'zypper-packaging']\",\n",
       " \"['embedded', 'computer-vision', 'deep-learning', 'cuda', 'autonomous-driving', 'drive-agx']\",\n",
       " \"['deep-learning', 'containers', 'nvidia-docker', 'nvidia-gpus']\",\n",
       " \"['linux', 'libraries', 'nvidia', 'gpu-memory', 'kernel-mode-driver', 'gpudirect-rdma']\",\n",
       " \"['deep-learning', 'nvidia', 'tensorrt']\",\n",
       " \"['nvidia-driver-packages', 'precompiled-kernel-modules', 'yum-packaging']\",\n",
       " \"['benchmark', 'performance', 'gpu', 'cuda', 'nvidia', 'cuda-kernels', 'kernel-benchmark']\",\n",
       " \"['docker', 'gpu', 'cuda', 'nvidia-docker']\",\n",
       " \"['nvidia-driver-packages', 'zypper-packaging', 'nvidia-gfxg05', 'nvidia-gfxg04']\",\n",
       " \"['docker', 'kubernetes', 'automation', 'utilities', 'ci', 'containers', 'versioning', 'podman']\",\n",
       " \"['docker', 'hpc', 'containers', 'singularity']\",\n",
       " \"['cuda', 'nvidia', 'quantum-computing', 'cuquantum', 'custatevec', 'cutensornet']\",\n",
       " \"['speech-synthesis']\",\n",
       " \"['speech-processing', 'noise-reduction', 'speech-denoising', 'speech-enchacement']\",\n",
       " \"['computer-vision', 'deep-learning', 'neural-network', 'cuda', 'high-dimensional-data', 'pytorch', 'convolutional-neural-networks', 'auto-differentiation', 'semantic-segmentation', 'space-time', 'spatio-temporal-analysis', '3d-vision', '3d-convolutional-network', 'sparse-tensors', 'sparse-convolution', 'high-dimensional-inference', 'trilateral-filter', '4d-convolutional-neural-network', 'minkowski-engine', 'sparse-tensor-network']\",\n",
       " \"['cuda', 'cuda-kernels', 'cuda-driver-api', 'cuda-opengl']\",\n",
       " \"['nvidia-driver-packages', 'yum-packaging', 'nvidia-xconfig']\",\n",
       " \"['nvidia-settings', 'nvidia-driver-packages', 'yum-packaging']\",\n",
       " \"['nvidia-driver-packages', 'yum-packaging', 'nvidia-persistenced']\",\n",
       " \"['nvidia-driver-packages', 'yum-packaging', 'nvidia-modprobe']\",\n",
       " \"['nvidia-driver-packages', 'yum-packaging', 'nvidia-kmod-common']\",\n",
       " \"['nvidia-driver-packages', 'yum-packaging', 'dkms-kernel-modules']\",\n",
       " \"['cpp', 'cuda', 'runtime-compilation', 'single-header', 'nvrtc', 'jit-compilation']\",\n",
       " \"['ai', 'csharp', 'dicom', 'nvidia', 'medical', 'healthcare', 'medical-imaging', 'dotnet-core', 'fo-dicom', 'nvidia-clara']\",\n",
       " \"['machine-learning', 'caffe', 'deep-learning', 'gpu', 'torch']\",\n",
       " \"['deep-learning', 'python3', 'pytorch', 'automl', 'tcia-dac', 'healthcare-imaging', 'medical-imaging-computing', 'medical-imaging-processing', 'clara-train']\",\n",
       " \"['deep-neural-networks', 'computer-vision', 'deep-learning', 'computer-graphics', 'pytorch', 'generative-adversarial-network', 'gan', 'pix2pix', 'image-to-image-translation']\",\n",
       " \"['deep-learning', 'tensorflow', 'pytorch', 'ngc', 'gpu-support', 'determinism', 'gpu-determinism', 'deterministic-ops']\",\n",
       " \"['nvidia-driver-packages', 'precompiled-kernel-modules', 'yum-packaging']\",\n",
       " \"['transformer', 'vision-transformer', 'long-sequence', 'efficient-transformers']\",\n",
       " \"['singularity', 'lmod', 'ngc']\",\n",
       " \"['python', 'deep-learning', 'neural-network', 'pytorch', 'object-detection', 'tensorrt', 'retinanet']\",\n",
       " \"['kubernetes', 'deep-learning', 'cuda', 'grpc', 'inference', 'tensorrt']\",\n",
       " \"['nvidia-driver-packages', 'yum-packaging', 'fabricmanager']\",\n",
       " \"['nvidia-driver-packages', 'apt-packaging', 'fabricmanager']\",\n",
       " \"['visualization', 'deep-learning', 'pose-estimation', 'synthetic-dataset-generation']\",\n",
       " \"['deep-learning', 'gpu', 'collaborative-filtering', 'recommendation-engine', 'deep-autoencoders']\",\n",
       " \"['text-to-speech', 'deep-learning', 'tensorflow', 'multi-node', 'speech-synthesis', 'speech-recognition', 'seq2seq', 'speech-to-text', 'neural-machine-translation', 'sequence-to-sequence', 'language-model', 'multi-gpu', 'float16', 'mixed-precision']\",\n",
       " \"['swift', 'docker-image']\",\n",
       " \"['ubuntu-packaging', 'nvidia-driver-packages', 'apt-packaging', 'nvidia-graphics-drivers']\",\n",
       " \"['nvidia-driver-packages', 'apt-packaging', 'libnvidia-nscq']\",\n",
       " \"['nvidia-driver-packages', 'yum-packaging', 'libnvidia-nscq']\",\n",
       " \"['nvidia-settings', 'ubuntu-packaging', 'nvidia-driver-packages', 'apt-packaging']\",\n",
       " \"['ubuntu-packaging', 'nvidia-driver-packages', 'apt-packaging', 'nvidia-modprobe']\",\n",
       " \"['computer-vision', 'deep-learning', 'object-detection', 'pose-estimation', 'synthetic-dataset-generation', 'domain-randomization']\",\n",
       " \"['golang', 'tensorflow', 'tar', 'datapipeline', 'tfrecord', 'tfexample']\",\n",
       " \"['machine-learning', 'deep-neural-networks', 'deep-learning', 'hyperparameter-optimization', 'hyperparameter-tuning', 'automl']\",\n",
       " \"['docker', 'caffe', 'deep-learning', 'gpu', 'inference', 'inference-server']\"]"
      ]
     },
     "execution_count": 5,
     "metadata": {},
     "output_type": "execute_result"
    }
   ],
   "source": [
    "topic_val"
   ]
  },
  {
   "cell_type": "code",
   "execution_count": 104,
   "id": "17a532bf",
   "metadata": {},
   "outputs": [
    {
     "data": {
      "text/plain": [
       "[\"['cxx', 'cpp', 'gpu', 'llvm', 'cpp14', 'cuda', 'cpp11', 'nvidia', 'standard', 'cpp17', 'std', 'libcxx', 'cpp20', 'cxx11', 'cxx14', 'cxx17', 'cpp23', 'cxx20', 'nvidia-hpc-sdk', 'cxx23']\",\n",
       " \"['deep-learning', 'cpp', 'gpu', 'cuda', 'cpp11', 'nvidia', 'deep-learning-library']\",\n",
       " \"['hpc', 'gpu', 'cuda', 'gpgpu', 'gpu-computing']\",\n",
       " \"['kubernetes', 'gpu', 'cuda', 'nvidia']\",\n",
       " \"['cxx', 'algorithms', 'cpp', 'gpu', 'cpp14', 'cuda', 'cpp11', 'nvidia', 'cpp17', 'thrust', 'cpp20', 'cxx11', 'cxx14', 'cxx17', 'cxx20', 'nvidia-hpc-sdk']\",\n",
       " \"['cxx', 'algorithms', 'cpp', 'gpu', 'cpp14', 'cuda', 'cpp11', 'nvidia', 'cpp17', 'cub', 'cpp20', 'cxx11', 'cxx14', 'cxx17', 'cxx20', 'nvidia-hpc-sdk']\",\n",
       " \"['embedded', 'computer-vision', 'deep-learning', 'cuda', 'autonomous-driving', 'drive-agx']\",\n",
       " \"['benchmark', 'performance', 'gpu', 'cuda', 'nvidia', 'cuda-kernels', 'kernel-benchmark']\",\n",
       " \"['docker', 'gpu', 'cuda', 'nvidia-docker']\",\n",
       " \"['cuda', 'nvidia', 'quantum-computing', 'cuquantum', 'custatevec', 'cutensornet']\",\n",
       " \"['computer-vision', 'deep-learning', 'neural-network', 'cuda', 'high-dimensional-data', 'pytorch', 'convolutional-neural-networks', 'auto-differentiation', 'semantic-segmentation', 'space-time', 'spatio-temporal-analysis', '3d-vision', '3d-convolutional-network', 'sparse-tensors', 'sparse-convolution', 'high-dimensional-inference', 'trilateral-filter', '4d-convolutional-neural-network', 'minkowski-engine', 'sparse-tensor-network']\",\n",
       " \"['cuda', 'cuda-kernels', 'cuda-driver-api', 'cuda-opengl']\",\n",
       " \"['cpp', 'cuda', 'runtime-compilation', 'single-header', 'nvrtc', 'jit-compilation']\",\n",
       " \"['kubernetes', 'deep-learning', 'cuda', 'grpc', 'inference', 'tensorrt']\"]"
      ]
     },
     "execution_count": 104,
     "metadata": {},
     "output_type": "execute_result"
    }
   ],
   "source": [
    "include_cuda"
   ]
  },
  {
   "cell_type": "code",
   "execution_count": null,
   "id": "35ebd59f",
   "metadata": {},
   "outputs": [],
   "source": []
  },
  {
   "cell_type": "code",
   "execution_count": null,
   "id": "c0cfde35",
   "metadata": {},
   "outputs": [],
   "source": []
  }
 ],
 "metadata": {
  "kernelspec": {
   "display_name": "Crawling",
   "language": "python",
   "name": "crawling"
  },
  "language_info": {
   "codemirror_mode": {
    "name": "ipython",
    "version": 3
   },
   "file_extension": ".py",
   "mimetype": "text/x-python",
   "name": "python",
   "nbconvert_exporter": "python",
   "pygments_lexer": "ipython3",
   "version": "3.9.1"
  }
 },
 "nbformat": 4,
 "nbformat_minor": 5
}
