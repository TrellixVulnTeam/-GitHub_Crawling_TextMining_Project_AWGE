{
 "cells": [
  {
   "cell_type": "code",
   "execution_count": null,
   "id": "2b1b7aa9",
   "metadata": {},
   "outputs": [],
   "source": [
    "import time\n",
    "import requests\n",
    "import pandas as pd\n",
    "from selenium import webdriver\n",
    "from selenium.webdriver.common.by import By\n",
    "from selenium.webdriver.chrome.options import Options\n",
    "from time import sleep\n",
    "from bs4 import BeautifulSoup as bs\n",
    "import urllib.request as ur\n",
    "import warnings\n",
    "from selenium.webdriver.support import expected_conditions as EC\n",
    "\n",
    "\n",
    "chrome_options = Options()\n",
    "chrome_options.add_argument(\"--no-sandbox\")\n",
    "chrome_options.add_argument(\"--headless\")\n",
    "\n",
    "\n",
    "def search_software_url():\n",
    "    urls = []\n",
    "    BASE_URL = 'https://riscv.org/exchange/?_sft_exchange_category=software&_sfm_exchange_software_type='\n",
    "    df_dic_2 = []\n",
    "    for i in df_dic:\n",
    "        url = BASE_URL\n",
    "        string = i.split()\n",
    "        for j in string:\n",
    "            if j == string[-1]:\n",
    "                url+=j\n",
    "            else:\n",
    "                url+= (j+'%20')\n",
    "        urls.append(url)\n",
    "        \n",
    "    return urls"
   ]
  }
 ],
 "metadata": {
  "kernelspec": {
   "display_name": "Crawling",
   "language": "python",
   "name": "crawling"
  },
  "language_info": {
   "codemirror_mode": {
    "name": "ipython",
    "version": 3
   },
   "file_extension": ".py",
   "mimetype": "text/x-python",
   "name": "python",
   "nbconvert_exporter": "python",
   "pygments_lexer": "ipython3",
   "version": "3.9.1"
  }
 },
 "nbformat": 4,
 "nbformat_minor": 5
}
