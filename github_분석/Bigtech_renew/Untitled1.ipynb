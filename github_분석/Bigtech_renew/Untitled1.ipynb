{
 "cells": [
  {
   "cell_type": "code",
   "execution_count": 12,
   "id": "33b24b27",
   "metadata": {},
   "outputs": [],
   "source": [
    "import pandas as pd\n",
    "import itertools"
   ]
  },
  {
   "cell_type": "code",
   "execution_count": 14,
   "id": "d7a6be63",
   "metadata": {},
   "outputs": [],
   "source": [
    "csv = pd.read_csv('alibaba_renew.csv')\n",
    "cat = csv['Topics']\n",
    "cat_list = cat.values.tolist()"
   ]
  },
  {
   "cell_type": "code",
   "execution_count": 15,
   "id": "d3c58ad4",
   "metadata": {},
   "outputs": [],
   "source": [
    "list2 = list(itertools.chain(*cat_list))"
   ]
  },
  {
   "cell_type": "code",
   "execution_count": null,
   "id": "e7e7edff",
   "metadata": {},
   "outputs": [],
   "source": []
  }
 ],
 "metadata": {
  "kernelspec": {
   "display_name": "Crawling",
   "language": "python",
   "name": "crawling"
  },
  "language_info": {
   "codemirror_mode": {
    "name": "ipython",
    "version": 3
   },
   "file_extension": ".py",
   "mimetype": "text/x-python",
   "name": "python",
   "nbconvert_exporter": "python",
   "pygments_lexer": "ipython3",
   "version": "3.9.1"
  }
 },
 "nbformat": 4,
 "nbformat_minor": 5
}
