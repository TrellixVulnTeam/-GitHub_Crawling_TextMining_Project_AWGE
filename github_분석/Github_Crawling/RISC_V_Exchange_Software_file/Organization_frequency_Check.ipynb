{
 "cells": [
  {
   "cell_type": "code",
   "execution_count": 6,
   "id": "d2c11e0d",
   "metadata": {},
   "outputs": [],
   "source": [
    "import time\n",
    "import requests\n",
    "import pandas as pd\n",
    "from selenium import webdriver\n",
    "from selenium.webdriver.common.by import By\n",
    "from selenium.webdriver.chrome.options import Options\n",
    "from time import sleep\n",
    "from bs4 import BeautifulSoup\n",
    "from bs4 import BeautifulSoup as bs\n",
    "from fake_useragent import UserAgent\n",
    "import urllib.request as ur\n",
    "import warnings\n",
    "from selenium.webdriver.support import expected_conditions as EC\n",
    "from tqdm import tqdm\n",
    "\n",
    "\n",
    "url_1 = 'https://riscv.org/exchange/?_sft_exchange_category=software'\n",
    "html = ur.urlopen(url_1)\n",
    "soup = bs(html.read(), \"html.parser\")\n",
    "\n",
    "software_type_list = soup.find_all(\"ul\", {'data-operator':'or'}) # 제목\n",
    "\n",
    "\n",
    "df_dic = []\n",
    "for i in software_type_list[13].find_all('li',\"sf-level-0\" ):\n",
    "    title = i.text.strip()\n",
    "\n",
    "    df_dic.append(title)"
   ]
  },
  {
   "cell_type": "code",
   "execution_count": 7,
   "id": "3027ae96",
   "metadata": {},
   "outputs": [
    {
     "data": {
      "text/plain": [
       "['Accelerated Libraries',\n",
       " 'Accelerated Libraries, Linux, macOS',\n",
       " 'Bootloaders',\n",
       " 'BSD Distro',\n",
       " 'C Compilers and Libraries',\n",
       " 'C compilers and libraries, Compilers and runtimes for other languages',\n",
       " 'Configuration',\n",
       " 'Debugging',\n",
       " 'Hypervisors',\n",
       " 'IDEs and SDKs',\n",
       " 'Kernel',\n",
       " 'Linux distributions',\n",
       " 'Machine Learning and AI',\n",
       " 'Non-C Compilers and Runtimes',\n",
       " 'Object Toolchain',\n",
       " 'OS',\n",
       " 'RTOS',\n",
       " 'Security',\n",
       " 'Simulators',\n",
       " 'Verification Tools']"
      ]
     },
     "execution_count": 7,
     "metadata": {},
     "output_type": "execute_result"
    }
   ],
   "source": [
    "df_dic"
   ]
  },
  {
   "cell_type": "code",
   "execution_count": 8,
   "id": "d5fa5ce6",
   "metadata": {},
   "outputs": [],
   "source": [
    "df_list = []\n",
    "for i in df_dic:\n",
    "    df = pd.read_csv('./RISC_V_Software_type_rename/Risc_v_{}_info.csv'.format(i))\n",
    "    df_list.append(df)\n",
    "    \n",
    "plus = pd.concat(df_list)"
   ]
  },
  {
   "cell_type": "code",
   "execution_count": 9,
   "id": "364ef573",
   "metadata": {},
   "outputs": [],
   "source": [
    "df_plus = pd.DataFrame(plus['Organization'])"
   ]
  },
  {
   "cell_type": "code",
   "execution_count": 10,
   "id": "fa0fdbc4",
   "metadata": {},
   "outputs": [],
   "source": [
    "list_df_plus = df_plus.values.tolist()"
   ]
  },
  {
   "cell_type": "code",
   "execution_count": 11,
   "id": "899430b6",
   "metadata": {},
   "outputs": [],
   "source": [
    "import itertools\n",
    "\n",
    "list_plus = list(itertools.chain(*list_df_plus))"
   ]
  },
  {
   "cell_type": "code",
   "execution_count": 12,
   "id": "0cd4de5c",
   "metadata": {},
   "outputs": [
    {
     "data": {
      "text/plain": [
       "[' Andes',\n",
       " ' Andes',\n",
       " ' PerfXLab',\n",
       " ' TUM',\n",
       " ' Ron Minnich (Google), Jonathan NeuschÃ¤fer',\n",
       " ' Anup Patel (Western Digital), Atish Patra (Western Digital)',\n",
       " ' SiFive',\n",
       " ' Luo Jia (Huazhong Univ. of Sci. & Tech.)',\n",
       " ' Rick Chen (Andes)',\n",
       " ' Abner Chang (Hewlett Packard Enterprise), Daniel Schaefer (Hewlett Packard Enterprise)',\n",
       " ' Ruslan Bukin (FreeBSD)',\n",
       " ' Matt Thomas (NetBSD), Reinoud Zandijk (NetBSD)',\n",
       " ' Andes',\n",
       " ' Andrew DaileyAndrew Dailey',\n",
       " ' Barcelona Supercomputing Center',\n",
       " ' Alex Bradbury (lowRISC)',\n",
       " ' Xavier Leroy',\n",
       " ' Andrew Waterman (SiFive), Palmer Dabbelt (Google), Jim Wilson (SiFive), Kito Cheng (SiFive)',\n",
       " ' Palmer Dabbelt (Google), Andrew Waterman (SiFive), DJ Delorie (Red Hat), Darius Rad(Bluespec)',\n",
       " ' Liviu lonescu',\n",
       " ' Green Hills',\n",
       " ' IAR SystemsIAR Systems',\n",
       " ' emmtrix Technologies GmbH',\n",
       " ' BlueSpec',\n",
       " ' Ashling',\n",
       " ' Andrew Burgess (Embecosm), Palmer Dabbelt (Google)',\n",
       " ' Liviu Ionescu',\n",
       " ' Green Hills',\n",
       " ' Cobham Gaisler',\n",
       " ' IAR Systems',\n",
       " ' IAR Systems',\n",
       " ' Imperas',\n",
       " ' Tim Newsome (SiFive), Megan Wachs (SiFive), Palmer Dabbelt (Google)',\n",
       " ' SEGGER',\n",
       " ' JosÃ© Martins (UMinho), Sandro Pinto (UMinho)',\n",
       " ' Anup Patel (Western Digital), Atish Patra (Western Digital)',\n",
       " ' Anup Patel (Western Digital), Atish Patra (Western Digital)',\n",
       " ' Jonathan Behrens (MIT)',\n",
       " ' Anup Patel (Western Digital)',\n",
       " ' Andes',\n",
       " ' Ashling',\n",
       " ' SEGGER',\n",
       " ' SiFive',\n",
       " ' Mentor, a Siemens Business',\n",
       " ' Liviu Ionescu',\n",
       " ' IAR Systems',\n",
       " ' IAR Systems',\n",
       " ' IAR Systems',\n",
       " ' Imperas',\n",
       " ' T-Head (Alibaba group)',\n",
       " ' Mentor, a Siemens Business',\n",
       " ' Green Hills',\n",
       " ' Nuclei System Technology',\n",
       " ' PlatformIO',\n",
       " ' RISC-V International',\n",
       " ' RT-Thread',\n",
       " ' Microchip',\n",
       " ' Mark Corbin (Embecosm)',\n",
       " ' Andrew Waterman (SiFive), Albert Ou (SiFive), Palmer Dabbelt (Google)',\n",
       " ' Khem Raj',\n",
       " ' BaseALT Ltd.',\n",
       " ' BaseALT Ltd.',\n",
       " ' Andes',\n",
       " ' Tencent Open Source',\n",
       " ' Antmicro / Google TF Lite team',\n",
       " ' AdaCore',\n",
       " ' Yadong Wang',\n",
       " ' Eclipse OMR Project',\n",
       " ' Jeppe Johansen and others',\n",
       " ' Benjamin Barenblat (Google), Michael Pratt (Google), Stef Oâ€™Rear',\n",
       " ' Lars Brinkhoff',\n",
       " ' Martin Maas (University of California, Berkeley)',\n",
       " ' Maxine team',\n",
       " ' Matthias Koch',\n",
       " ' Alex RÃ¸nne Petersen',\n",
       " ' David Frech',\n",
       " ' Andreas Rumpf and others',\n",
       " ' RIOS, Futurewei, PLCT Lab',\n",
       " ' NicolÃ¡s Ojeda BÃ¤r',\n",
       " ' Alexey Baturo, Michael Knysnek, Martin Maas',\n",
       " ' Cheng Jin',\n",
       " ' Rust Project',\n",
       " ' RIOS, Futurewei, PLCT Lab',\n",
       " ' connectFree Corporation',\n",
       " ' Andrew Waterman (SiFive), Palmer Dabbelt (Google) & Jim Wilson (SiFive)',\n",
       " ' Cranelift core team',\n",
       " ' Alex Bradbury (lowRISC)',\n",
       " ' protonesso',\n",
       " ' Manuel A. Fernandez Montecelo',\n",
       " ' Richard WM Jones, Stefan Oâ€™Rear, David Abdurachmanov',\n",
       " ' Palmer Dabbelt (University of California, Berkeley)',\n",
       " ' Bernhard â€œBeroâ€\\x9d RosenkrÃ¤nzer',\n",
       " ' Andreas Schwab (SUSE)',\n",
       " ' Andreas Grapentin (University of Potsdam, HPI)',\n",
       " ' Ã\\x81lvaro Figueroa (of Greencore Solutions)',\n",
       " ' xnox',\n",
       " ' James Pace, Runtime',\n",
       " ' SEGGER',\n",
       " ' Embox',\n",
       " ' AWS',\n",
       " ' Chaifangming (Huawei), Pengzhouhu (Huawei), Huerjia (Huawei)',\n",
       " nan,\n",
       " ' Zoltan Herpai',\n",
       " ' Phoenix Systems',\n",
       " ' SYSGO',\n",
       " ' RT-Thread',\n",
       " ' Hesham Almatary',\n",
       " ' Trustworthy Systems group, Data61 CSIRO',\n",
       " ' Wind River',\n",
       " ' Zephyr Project, The Linux Foundation',\n",
       " ' Dover Microsystems, Inc.',\n",
       " ' SEGGER',\n",
       " ' National Security Agency',\n",
       " ' Intrinsic ID',\n",
       " ' Keystone Team',\n",
       " ' Hex Five Security Inc.',\n",
       " ' Hex Five Security Inc.',\n",
       " ' IPADS',\n",
       " ' PQShield',\n",
       " ' Hex Five Security Inc.',\n",
       " ' SecureRF Corp.',\n",
       " ' MINRES Technologies',\n",
       " ' Sagar Karandikar, Howard Mao, Donggyu Kim, David Biancolin, Alon Amid, Berkeley Architecture Research',\n",
       " ' Alec Roelke (University of Virginia)',\n",
       " ' Sebastian Macke',\n",
       " ' AndrÃ©s Castellanos',\n",
       " ' Gaurav N Kothari, Parikshit P Sarnaik, Gokturk Yuksek (State University of New York at Binghamton)',\n",
       " ' Imperas',\n",
       " ' PQShield',\n",
       " ' Sagar Karandikar (University of California, Berkeley), Bastian Koppelmann (University of Paderborn), Alex Suykov, Stefan Oâ€™Rear and Michael Clark (SiFive)',\n",
       " ' Benjamin Landers',\n",
       " ' Antmicro',\n",
       " ' Morten Borup Petersen',\n",
       " ' Vladimir Herdt (University of Bremen, AGRA)',\n",
       " ' Takahiro Aoyagi',\n",
       " ' Aidan Dodds',\n",
       " ' Imperas',\n",
       " ' Andrew Waterman & Yunsup Lee (SiFive)',\n",
       " ' Joseph Rahmeh (Western Digital)',\n",
       " ' Yang Li',\n",
       " ' Fabrice Bellard',\n",
       " ' ASTC',\n",
       " ' Victor Miguel de Morais Costa',\n",
       " ' Axiomise',\n",
       " ' Imperas',\n",
       " ' OneSpin',\n",
       " ' OneSpin',\n",
       " ' CHIPS Alliance Tools/DV workgroup',\n",
       " ' Valtrix Systems']"
      ]
     },
     "execution_count": 12,
     "metadata": {},
     "output_type": "execute_result"
    }
   ],
   "source": [
    "list_plus"
   ]
  },
  {
   "cell_type": "code",
   "execution_count": 13,
   "id": "fc96c68b",
   "metadata": {},
   "outputs": [],
   "source": [
    "from collections import Counter"
   ]
  },
  {
   "cell_type": "code",
   "execution_count": 14,
   "id": "1483723d",
   "metadata": {},
   "outputs": [
    {
     "name": "stdout",
     "output_type": "stream",
     "text": [
      "Counter({' Andes': 5, ' IAR Systems': 5, ' Imperas': 5, ' SEGGER': 4, ' Anup Patel (Western Digital), Atish Patra (Western Digital)': 3, ' Green Hills': 3, ' Hex Five Security Inc.': 3, ' SiFive': 2, ' Alex Bradbury (lowRISC)': 2, ' Ashling': 2, ' Liviu Ionescu': 2, ' Mentor, a Siemens Business': 2, ' RT-Thread': 2, ' BaseALT Ltd.': 2, ' RIOS, Futurewei, PLCT Lab': 2, ' PQShield': 2, ' OneSpin': 2, ' PerfXLab': 1, ' TUM': 1, ' Ron Minnich (Google), Jonathan NeuschÃ¤fer': 1, ' Luo Jia (Huazhong Univ. of Sci. & Tech.)': 1, ' Rick Chen (Andes)': 1, ' Abner Chang (Hewlett Packard Enterprise), Daniel Schaefer (Hewlett Packard Enterprise)': 1, ' Ruslan Bukin (FreeBSD)': 1, ' Matt Thomas (NetBSD), Reinoud Zandijk (NetBSD)': 1, ' Andrew DaileyAndrew Dailey': 1, ' Barcelona Supercomputing Center': 1, ' Xavier Leroy': 1, ' Andrew Waterman (SiFive), Palmer Dabbelt (Google), Jim Wilson (SiFive), Kito Cheng (SiFive)': 1, ' Palmer Dabbelt (Google), Andrew Waterman (SiFive), DJ Delorie (Red Hat), Darius Rad(Bluespec)': 1, ' Liviu lonescu': 1, ' IAR SystemsIAR Systems': 1, ' emmtrix Technologies GmbH': 1, ' BlueSpec': 1, ' Andrew Burgess (Embecosm), Palmer Dabbelt (Google)': 1, ' Cobham Gaisler': 1, ' Tim Newsome (SiFive), Megan Wachs (SiFive), Palmer Dabbelt (Google)': 1, ' JosÃ© Martins (UMinho), Sandro Pinto (UMinho)': 1, ' Jonathan Behrens (MIT)': 1, ' Anup Patel (Western Digital)': 1, ' T-Head (Alibaba group)': 1, ' Nuclei System Technology': 1, ' PlatformIO': 1, ' RISC-V International': 1, ' Microchip': 1, ' Mark Corbin (Embecosm)': 1, ' Andrew Waterman (SiFive), Albert Ou (SiFive), Palmer Dabbelt (Google)': 1, ' Khem Raj': 1, ' Tencent Open Source': 1, ' Antmicro / Google TF Lite team': 1, ' AdaCore': 1, ' Yadong Wang': 1, ' Eclipse OMR Project': 1, ' Jeppe Johansen and others': 1, ' Benjamin Barenblat (Google), Michael Pratt (Google), Stef Oâ€™Rear': 1, ' Lars Brinkhoff': 1, ' Martin Maas (University of California, Berkeley)': 1, ' Maxine team': 1, ' Matthias Koch': 1, ' Alex RÃ¸nne Petersen': 1, ' David Frech': 1, ' Andreas Rumpf and others': 1, ' NicolÃ¡s Ojeda BÃ¤r': 1, ' Alexey Baturo, Michael Knysnek, Martin Maas': 1, ' Cheng Jin': 1, ' Rust Project': 1, ' connectFree Corporation': 1, ' Andrew Waterman (SiFive), Palmer Dabbelt (Google) & Jim Wilson (SiFive)': 1, ' Cranelift core team': 1, ' protonesso': 1, ' Manuel A. Fernandez Montecelo': 1, ' Richard WM Jones, Stefan Oâ€™Rear, David Abdurachmanov': 1, ' Palmer Dabbelt (University of California, Berkeley)': 1, ' Bernhard â€œBeroâ€\\x9d RosenkrÃ¤nzer': 1, ' Andreas Schwab (SUSE)': 1, ' Andreas Grapentin (University of Potsdam, HPI)': 1, ' Ã\\x81lvaro Figueroa (of Greencore Solutions)': 1, ' xnox': 1, ' James Pace, Runtime': 1, ' Embox': 1, ' AWS': 1, ' Chaifangming (Huawei), Pengzhouhu (Huawei), Huerjia (Huawei)': 1, nan: 1, ' Zoltan Herpai': 1, ' Phoenix Systems': 1, ' SYSGO': 1, ' Hesham Almatary': 1, ' Trustworthy Systems group, Data61 CSIRO': 1, ' Wind River': 1, ' Zephyr Project, The Linux Foundation': 1, ' Dover Microsystems, Inc.': 1, ' National Security Agency': 1, ' Intrinsic ID': 1, ' Keystone Team': 1, ' IPADS': 1, ' SecureRF Corp.': 1, ' MINRES Technologies': 1, ' Sagar Karandikar, Howard Mao, Donggyu Kim, David Biancolin, Alon Amid, Berkeley Architecture Research': 1, ' Alec Roelke (University of Virginia)': 1, ' Sebastian Macke': 1, ' AndrÃ©s Castellanos': 1, ' Gaurav N Kothari, Parikshit P Sarnaik, Gokturk Yuksek (State University of New York at Binghamton)': 1, ' Sagar Karandikar (University of California, Berkeley), Bastian Koppelmann (University of Paderborn), Alex Suykov, Stefan Oâ€™Rear and Michael Clark (SiFive)': 1, ' Benjamin Landers': 1, ' Antmicro': 1, ' Morten Borup Petersen': 1, ' Vladimir Herdt (University of Bremen, AGRA)': 1, ' Takahiro Aoyagi': 1, ' Aidan Dodds': 1, ' Andrew Waterman & Yunsup Lee (SiFive)': 1, ' Joseph Rahmeh (Western Digital)': 1, ' Yang Li': 1, ' Fabrice Bellard': 1, ' ASTC': 1, ' Victor Miguel de Morais Costa': 1, ' Axiomise': 1, ' CHIPS Alliance Tools/DV workgroup': 1, ' Valtrix Systems': 1})\n"
     ]
    }
   ],
   "source": [
    "count_items = Counter(list_plus)\n",
    "print(count_items)"
   ]
  },
  {
   "cell_type": "code",
   "execution_count": 15,
   "id": "a23642fb",
   "metadata": {},
   "outputs": [],
   "source": [
    "df = pd.DataFrame.from_dict(count_items, orient='index').reset_index()"
   ]
  },
  {
   "cell_type": "code",
   "execution_count": 23,
   "id": "e7a7595d",
   "metadata": {},
   "outputs": [],
   "source": [
    "df = df.rename(columns = {'index':'Organization', 0:'count'})\n",
    "df_frequency = df.sort_values('count', ascending=False)"
   ]
  },
  {
   "cell_type": "code",
   "execution_count": 24,
   "id": "62f3e880",
   "metadata": {},
   "outputs": [],
   "source": [
    "df_frequency.to_csv('Number_of_organization_appearances.csv', index=False, encoding = 'UTF-8')"
   ]
  },
  {
   "cell_type": "code",
   "execution_count": null,
   "id": "55bdfce5",
   "metadata": {},
   "outputs": [],
   "source": []
  }
 ],
 "metadata": {
  "kernelspec": {
   "display_name": "Crawling",
   "language": "python",
   "name": "crawling"
  },
  "language_info": {
   "codemirror_mode": {
    "name": "ipython",
    "version": 3
   },
   "file_extension": ".py",
   "mimetype": "text/x-python",
   "name": "python",
   "nbconvert_exporter": "python",
   "pygments_lexer": "ipython3",
   "version": "3.9.1"
  }
 },
 "nbformat": 4,
 "nbformat_minor": 5
}
