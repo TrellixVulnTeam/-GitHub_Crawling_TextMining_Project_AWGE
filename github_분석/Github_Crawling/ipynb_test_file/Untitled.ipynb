{
 "cells": [
  {
   "cell_type": "code",
   "execution_count": 1,
   "id": "1420156b",
   "metadata": {},
   "outputs": [],
   "source": [
    "import requests\n",
    "from bs4 import BeautifulSoup\n",
    "import time\n",
    "from selenium import webdriver\n",
    "from selenium.webdriver.chrome.options import Options\n",
    "\n",
    "import pandas as pd\n",
    "from fake_useragent import UserAgent\n",
    "from bs4 import BeautifulSoup as bs\n",
    "import urllib.request as ur\n",
    "from get_risc_v_software_type import search_software_url\n",
    "from tqdm import tqdm"
   ]
  },
  {
   "cell_type": "code",
   "execution_count": 2,
   "id": "0391b869",
   "metadata": {},
   "outputs": [
    {
     "name": "stderr",
     "output_type": "stream",
     "text": [
      "100%|███████████████████████████████████████| 22/22 [00:00<00:00, 244760.45it/s]\n"
     ]
    },
    {
     "data": {
      "text/plain": [
       "[['https://riscv.org/exchange/?_sft_exchange_category=software&_sfm_exchange_software_type=Accelerated%20Libraries',\n",
       "  'Accelerated Libraries'],\n",
       " ['https://riscv.org/exchange/?_sft_exchange_category=software&_sfm_exchange_software_type=Accelerated%20Libraries,%20Linux,%20macOS',\n",
       "  'Accelerated Libraries, Linux, macOS'],\n",
       " ['https://riscv.org/exchange/?_sft_exchange_category=software&_sfm_exchange_software_type=Application%20Infrastructure,%20Simulators',\n",
       "  'Application Infrastructure, Simulators'],\n",
       " ['https://riscv.org/exchange/?_sft_exchange_category=software&_sfm_exchange_software_type=Bootloaders',\n",
       "  'Bootloaders'],\n",
       " ['https://riscv.org/exchange/?_sft_exchange_category=software&_sfm_exchange_software_type=BSD%20Distro',\n",
       "  'BSD Distro'],\n",
       " ['https://riscv.org/exchange/?_sft_exchange_category=software&_sfm_exchange_software_type=C%20Compilers%20and%20Libraries',\n",
       "  'C Compilers and Libraries'],\n",
       " ['https://riscv.org/exchange/?_sft_exchange_category=software&_sfm_exchange_software_type=C%20compilers%20and%20libraries,%20Compilers%20and%20runtimes%20for%20other%20languages',\n",
       "  'C compilers and libraries, Compilers and runtimes for other languages'],\n",
       " ['https://riscv.org/exchange/?_sft_exchange_category=software&_sfm_exchange_software_type=Configuration',\n",
       "  'Configuration'],\n",
       " ['https://riscv.org/exchange/?_sft_exchange_category=software&_sfm_exchange_software_type=Debugging',\n",
       "  'Debugging'],\n",
       " ['https://riscv.org/exchange/?_sft_exchange_category=software&_sfm_exchange_software_type=Hypervisors',\n",
       "  'Hypervisors'],\n",
       " ['https://riscv.org/exchange/?_sft_exchange_category=software&_sfm_exchange_software_type=IDEs%20and%20SDKs',\n",
       "  'IDEs and SDKs'],\n",
       " ['https://riscv.org/exchange/?_sft_exchange_category=software&_sfm_exchange_software_type=Kernel',\n",
       "  'Kernel'],\n",
       " ['https://riscv.org/exchange/?_sft_exchange_category=software&_sfm_exchange_software_type=Linux%20distributions',\n",
       "  'Linux distributions'],\n",
       " ['https://riscv.org/exchange/?_sft_exchange_category=software&_sfm_exchange_software_type=Machine%20Learning%20and%20AI',\n",
       "  'Machine Learning and AI'],\n",
       " ['https://riscv.org/exchange/?_sft_exchange_category=software&_sfm_exchange_software_type=Non-C%20Compilers%20and%20Runtimes',\n",
       "  'Non-C Compilers and Runtimes'],\n",
       " ['https://riscv.org/exchange/?_sft_exchange_category=software&_sfm_exchange_software_type=Object%20Toolchain',\n",
       "  'Object Toolchain'],\n",
       " ['https://riscv.org/exchange/?_sft_exchange_category=software&_sfm_exchange_software_type=OS',\n",
       "  'OS'],\n",
       " ['https://riscv.org/exchange/?_sft_exchange_category=software&_sfm_exchange_software_type=Real-time%20operating%20systems',\n",
       "  'Real-time operating systems'],\n",
       " ['https://riscv.org/exchange/?_sft_exchange_category=software&_sfm_exchange_software_type=RTOS',\n",
       "  'RTOS'],\n",
       " ['https://riscv.org/exchange/?_sft_exchange_category=software&_sfm_exchange_software_type=Security',\n",
       "  'Security'],\n",
       " ['https://riscv.org/exchange/?_sft_exchange_category=software&_sfm_exchange_software_type=Simulators',\n",
       "  'Simulators'],\n",
       " ['https://riscv.org/exchange/?_sft_exchange_category=software&_sfm_exchange_software_type=Verification%20Tools',\n",
       "  'Verification Tools']]"
      ]
     },
     "execution_count": 2,
     "metadata": {},
     "output_type": "execute_result"
    }
   ],
   "source": [
    "chrome_options = Options()\n",
    "chrome_options.add_argument(\"--no-sandbox\")\n",
    "chrome_options.add_argument(\"--headless\")\n",
    "\n",
    "url_and_repo_name = search_software_url()\n",
    "url_and_repo_name"
   ]
  },
  {
   "cell_type": "code",
   "execution_count": 3,
   "id": "7cbbdbd7",
   "metadata": {},
   "outputs": [
    {
     "name": "stderr",
     "output_type": "stream",
     "text": [
      "100%|███████████████████████████████████████████| 22/22 [09:17<00:00, 25.33s/it]\n"
     ]
    }
   ],
   "source": [
    "github_link = []\n",
    "for url,repo_name in tqdm(url_and_repo_name):\n",
    "    \n",
    "    browser = webdriver.Chrome(options = chrome_options)\n",
    "    browser.maximize_window()\n",
    "    software_type_url = url\n",
    "\n",
    "    browser.get(url)\n",
    "\n",
    "    prev_height = browser.execute_script(\"return document.body.scrollHeight\")\n",
    "\n",
    "    # 웹페이지 맨 아래까지 무한 스크롤\n",
    "    while True:\n",
    "        # 스크롤을 화면 가장 아래로 내린다\n",
    "        browser.execute_script(\"window.scrollTo(0,document.body.scrollHeight)\")\n",
    "\n",
    "        # 페이지 로딩 대기\n",
    "        time.sleep(2)\n",
    "\n",
    "        # 현재 문서 높이를 가져와서 저장\n",
    "        curr_height = browser.execute_script(\"return document.body.scrollHeight\")\n",
    "\n",
    "        if(curr_height == prev_height):\n",
    "            break\n",
    "        else:\n",
    "            prev_height = browser.execute_script(\"return document.body.scrollHeight\")\n",
    "\n",
    "\n",
    "\n",
    "    html_source = browser.page_source\n",
    "    soup = BeautifulSoup(html_source, 'lxml')\n",
    "\n",
    "\n",
    "    \n",
    "    software_list = soup.find_all(\"div\", \"col-results span_1_of_2-results bottom-results-right\")\n",
    "    \n",
    "    for sw in software_list:\n",
    "\n",
    "        link_name = sw.find('a')['href']\n",
    "        if \"github.com\" in link_name:\n",
    "            github_link.append(link_name)"
   ]
  },
  {
   "cell_type": "code",
   "execution_count": 15,
   "id": "fda09e46",
   "metadata": {},
   "outputs": [
    {
     "ename": "ValueError",
     "evalue": "list.remove(x): x not in list",
     "output_type": "error",
     "traceback": [
      "\u001b[0;31m---------------------------------------------------------------------------\u001b[0m",
      "\u001b[0;31mValueError\u001b[0m                                Traceback (most recent call last)",
      "Input \u001b[0;32mIn [15]\u001b[0m, in \u001b[0;36m<cell line: 1>\u001b[0;34m()\u001b[0m\n\u001b[0;32m----> 1\u001b[0m \u001b[43mgithub_link\u001b[49m\u001b[38;5;241;43m.\u001b[39;49m\u001b[43mremove\u001b[49m\u001b[43m(\u001b[49m\u001b[38;5;124;43m'\u001b[39;49m\u001b[38;5;124;43mhttps://github.com/kvm-riscv/kvmtool.git\u001b[39;49m\u001b[38;5;124;43m'\u001b[39;49m\u001b[43m)\u001b[49m\n",
      "\u001b[0;31mValueError\u001b[0m: list.remove(x): x not in list"
     ]
    }
   ],
   "source": [
    "github_link.remove('https://github.com/kvm-riscv/kvmtool.git')"
   ]
  },
  {
   "cell_type": "code",
   "execution_count": 16,
   "id": "1509f13c",
   "metadata": {},
   "outputs": [
    {
     "ename": "ValueError",
     "evalue": "list.remove(x): x not in list",
     "output_type": "error",
     "traceback": [
      "\u001b[0;31m---------------------------------------------------------------------------\u001b[0m",
      "\u001b[0;31mValueError\u001b[0m                                Traceback (most recent call last)",
      "Input \u001b[0;32mIn [16]\u001b[0m, in \u001b[0;36m<cell line: 1>\u001b[0;34m()\u001b[0m\n\u001b[0;32m----> 1\u001b[0m \u001b[43mgithub_link\u001b[49m\u001b[38;5;241;43m.\u001b[39;49m\u001b[43mremove\u001b[49m\u001b[43m(\u001b[49m\u001b[38;5;124;43m'\u001b[39;49m\u001b[38;5;124;43mhttps://github.com/hex-five/multizone-secure-iot-stack\u001b[39;49m\u001b[38;5;124;43m'\u001b[39;49m\u001b[43m)\u001b[49m\n",
      "\u001b[0;31mValueError\u001b[0m: list.remove(x): x not in list"
     ]
    }
   ],
   "source": [
    "github_link.remove('https://github.com/hex-five/multizone-secure-iot-stack')"
   ]
  },
  {
   "cell_type": "code",
   "execution_count": 22,
   "id": "c884103c",
   "metadata": {},
   "outputs": [],
   "source": [
    "github_link.remove('https://github.com/eclipse/tcf.agent')"
   ]
  },
  {
   "cell_type": "code",
   "execution_count": 25,
   "id": "fd31dbe1",
   "metadata": {},
   "outputs": [],
   "source": [
    "github_link.remove('https://github.com/mono/mono/pull/11593')"
   ]
  },
  {
   "cell_type": "code",
   "execution_count": 28,
   "id": "e68d7af6",
   "metadata": {},
   "outputs": [],
   "source": [
    "github_link.remove('https://github.com/llvm/llvm-project/tree/master/llvm/lib/Target/RISCV')"
   ]
  },
  {
   "cell_type": "code",
   "execution_count": 31,
   "id": "d2686b6b",
   "metadata": {},
   "outputs": [],
   "source": [
    "github_link.remove('https://github.com/phoenix-rtos/phoenix-rtos-doc/tree/master/quickstart/')"
   ]
  },
  {
   "cell_type": "code",
   "execution_count": 34,
   "id": "1d4cc366",
   "metadata": {},
   "outputs": [],
   "source": [
    "github_link.remove('https://github.com/RT-Thread')"
   ]
  },
  {
   "cell_type": "code",
   "execution_count": 37,
   "id": "9db65bd9",
   "metadata": {},
   "outputs": [],
   "source": [
    "github_link.remove('https://github.com/keystone-enclave')"
   ]
  },
  {
   "cell_type": "code",
   "execution_count": 40,
   "id": "3083cebb",
   "metadata": {},
   "outputs": [],
   "source": [
    "github_link.remove('https://github.com/Penglai-Enclave')"
   ]
  },
  {
   "cell_type": "code",
   "execution_count": 41,
   "id": "cead94bf",
   "metadata": {},
   "outputs": [
    {
     "name": "stdout",
     "output_type": "stream",
     "text": [
      "https://github.com/xianyi/OpenBLAS/tree/risc-v\n",
      "https://github.com/moepinet/libmoepgf.git\n",
      "https://github.com/olofk/vidbo\n",
      "https://github.com/riscv/opensbi\n",
      "https://github.com/riscv/riscv-pk\n",
      "https://github.com/luojia65/rustsbi\n",
      "https://github.com/riscv/riscv-uefi-edk2-docs\n",
      "https://github.com/freebsd/freebsd\n",
      "https://github.com/theandrew168/bronzebeard\n",
      "https://github.com/AbsInt/CompCert.git\n",
      "https://github.com/riscv/riscv-gcc\n",
      "https://github.com/riscv/riscv-glibc\n",
      "https://github.com/riscv/riscv-musl\n",
      "https://github.com/riscv/riscv-newlib\n",
      "https://github.com/gnu-mcu-eclipse/openocd\n",
      "https://github.com/riscv/riscv-openocd\n",
      "https://github.com/bao-project/bao-hypervisor\n",
      "https://github.com/kvm-riscv/linux.git\n",
      "https://github.com/mit-pdos/rvirt\n",
      "https://github.com/xvisor/xvisor.git\n",
      "https://github.com/riscv/riscv-gnu-toolchain\n",
      "https://github.com/riscv/riscv-linux\n",
      "https://github.com/riscv/meta-riscv\n",
      "https://github.com/Tencent/ncnn\n",
      "https://github.com/eclipse/omr\n",
      "https://github.com/riscv/riscv-go\n",
      "https://github.com/larsbrinkhoff/lbForth\n",
      "https://github.com/JikesRVM/JikesRVM\n",
      "https://github.com/beehive-lab/Maxine-VM\n",
      "https://github.com/nimblemachines/muforth\n",
      "https://github.com/v8-riscv/node\n",
      "https://github.com/nojb/riscv-ocaml\n",
      "https://github.com/eclipse/openj9\n",
      "https://github.com/rust-lang/rust/\n",
      "https://github.com/v8-riscv/v8\n",
      "https://github.com/riscv/riscv-binutils-gdb\n",
      "https://github.com/CraneStation/cranelift\n",
      "https://github.com/ataraxialinux/ataraxia\n",
      "https://github.com/palmer-dabbelt/riscv-gentoo\n",
      "https://github.com/oaken-source/parabola-riscv64-bootstrap\n",
      "https://github.com/fede2cr/slackware_riscv/\n",
      "https://github.com/alibaba/AliOS-Things\n",
      "https://github.com/embox/embox\n",
      "https://github.com/LiteOS/LiteOS_Lab/\n",
      "https://github.com/seL4/seL4\n",
      "https://github.com/zephyrproject-rtos/zephyr/#readme\n",
      "https://github.com/NationalSecurityAgency/ghidra\n",
      "https://github.com/hex-five/multizone-api\n",
      "https://github.com/hex-five/multizone-sdk\n",
      "https://github.com/pyth0n14n/PoC-TEE\n",
      "https://github.com/firesim/firesim\n",
      "https://github.com/s-macke/jor1k/\n",
      "https://github.com/andrescv/Jupiter\n",
      "https://github.com/bucaps/marss-riscv\n",
      "https://github.com/riscv-ovpsim/imperas-riscv-tests\n",
      "https://github.com/thethirdone/rars\n",
      "https://github.com/renode/renode\n",
      "https://github.com/mortbopet/Ripes\n",
      "https://github.com/agra-uni-bremen/riscv-vp\n",
      "https://github.com/takahirox/riscv-rust\n",
      "https://github.com/bit-hack/riscv-vm\n",
      "https://github.com/riscv/riscv-isa-sim\n",
      "https://github.com/westerndigitalcorporation/swerv-ISS\n",
      "https://github.com/shady831213/terminus\n",
      "https://github.com/vmmc2/Vulcan\n",
      "https://github.com/google/riscv-dv\n"
     ]
    }
   ],
   "source": [
    "for i in github_link:\n",
    "    print(i)"
   ]
  },
  {
   "cell_type": "code",
   "execution_count": 47,
   "id": "8577b31c",
   "metadata": {},
   "outputs": [
    {
     "name": "stderr",
     "output_type": "stream",
     "text": [
      "100%|███████████████████████████████████████████| 66/66 [01:14<00:00,  1.13s/it]\n"
     ]
    }
   ],
   "source": [
    "df = pd.DataFrame(\n",
    "        columns=[\n",
    "            \"title\",\n",
    "            \"descript\",\n",
    "            \"topic_keyword\",\n",
    "            \"star\",\n",
    "            \"fork\",\n",
    "        ]\n",
    "    )\n",
    "\n",
    "for link in tqdm(github_link):\n",
    "    df_dic = {}\n",
    "    dic_keys = ['title', 'descript', 'topic_keyword', 'star', 'fork']\n",
    "\n",
    "    url = link\n",
    "\n",
    "    html = ur.urlopen(url)\n",
    "    soup = bs(html.read(), \"html.parser\")\n",
    "\n",
    "    for k in dic_keys:\n",
    "        df_dic[k] = []\n",
    "\n",
    "\n",
    "\n",
    "    title = soup.find('strong','mr-2 flex-self-stretch').text.strip()\n",
    "\n",
    "    description = soup.find('p','f4 my-3')\n",
    "    if description is not None:\n",
    "        descript = description.text.strip()\n",
    "    else:\n",
    "        descript = '[BLANK]'\n",
    "\n",
    "    topic_keyword = soup.find_all('a',{'data-ga-click':\"Topic, repository page\"})\n",
    "    if topic_keyword is not None:\n",
    "        topic_keyword_list = []\n",
    "        for tk in topic_keyword:\n",
    "            topic_keyword_list.append(tk.text.strip())\n",
    "    else:\n",
    "        topic_keyword_list = []\n",
    "\n",
    "\n",
    "    list = []\n",
    "    for i in soup.find_all('div','mt-2'):\n",
    "        if i.find('strong') is not None:\n",
    "            list.append(i.find('strong').text)\n",
    "\n",
    "    df_dic['title'].append(title)\n",
    "    df_dic['descript'].append(descript)\n",
    "    df_dic['topic_keyword'].append(topic_keyword_list)\n",
    "    df_dic['star'].append(list[0])\n",
    "    df_dic['fork'].append(list[2])\n",
    "    info = pd.DataFrame(df_dic)\n",
    "    \n",
    "    df = pd.concat([df,info], ignore_index=True)\n",
    "\n"
   ]
  },
  {
   "cell_type": "code",
   "execution_count": 49,
   "id": "eb35cb80",
   "metadata": {},
   "outputs": [],
   "source": [
    "df.to_csv('Learn_more_github_info.csv', encoding = 'utf-8')"
   ]
  },
  {
   "cell_type": "code",
   "execution_count": null,
   "id": "b6ebfe68",
   "metadata": {},
   "outputs": [],
   "source": []
  }
 ],
 "metadata": {
  "kernelspec": {
   "display_name": "Crawling",
   "language": "python",
   "name": "crawling"
  },
  "language_info": {
   "codemirror_mode": {
    "name": "ipython",
    "version": 3
   },
   "file_extension": ".py",
   "mimetype": "text/x-python",
   "name": "python",
   "nbconvert_exporter": "python",
   "pygments_lexer": "ipython3",
   "version": "3.9.1"
  }
 },
 "nbformat": 4,
 "nbformat_minor": 5
}
