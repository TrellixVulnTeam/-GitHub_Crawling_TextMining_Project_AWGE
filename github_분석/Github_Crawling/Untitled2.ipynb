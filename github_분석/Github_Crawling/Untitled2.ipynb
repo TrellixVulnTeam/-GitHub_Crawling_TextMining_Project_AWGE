{
 "cells": [
  {
   "cell_type": "code",
   "execution_count": null,
   "id": "af7115b3",
   "metadata": {},
   "outputs": [],
   "source": [
    "import time\n",
    "from unittest import result\n",
    "from get_github_repository_contributor import get_contributor\n",
    "\n",
    "def main(cor_name,repo_name):\n",
    "    url = f'https://github.com/{cor_name}/{repo_name}/graphs/contributors'\n",
    "    dataframe = get_contributor(url)\n",
    "    return dataframe\n",
    "\n",
    "\n",
    "if __name__ == \"__main__\":\n",
    "\n",
    "    start = time.time()\n",
    "    result_df = main('NVIDIA','NeMo')\n",
    "    end = time.time()\n",
    "    result_df.to_csv('test_contributor.csv',index=False,encoding = 'utf-8')\n",
    "    print(end - start, \" second\")\n",
    "    "
   ]
  }
 ],
 "metadata": {
  "kernelspec": {
   "display_name": "Crawling",
   "language": "python",
   "name": "crawling"
  },
  "language_info": {
   "codemirror_mode": {
    "name": "ipython",
    "version": 3
   },
   "file_extension": ".py",
   "mimetype": "text/x-python",
   "name": "python",
   "nbconvert_exporter": "python",
   "pygments_lexer": "ipython3",
   "version": "3.9.1"
  }
 },
 "nbformat": 4,
 "nbformat_minor": 5
}
